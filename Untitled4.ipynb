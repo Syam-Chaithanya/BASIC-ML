{
  "nbformat": 4,
  "nbformat_minor": 0,
  "metadata": {
    "colab": {
      "name": "Untitled4.ipynb",
      "provenance": [],
      "authorship_tag": "ABX9TyMHR0Q0yw85HCIPrQcNRatQ",
      "include_colab_link": true
    },
    "kernelspec": {
      "name": "python3",
      "display_name": "Python 3"
    },
    "language_info": {
      "name": "python"
    }
  },
  "cells": [
    {
      "cell_type": "markdown",
      "metadata": {
        "id": "view-in-github",
        "colab_type": "text"
      },
      "source": [
        "<a href=\"https://colab.research.google.com/github/Syam-Chaithanya/BASIC-ML/blob/main/Untitled4.ipynb\" target=\"_parent\"><img src=\"https://colab.research.google.com/assets/colab-badge.svg\" alt=\"Open In Colab\"/></a>"
      ]
    },
    {
      "cell_type": "markdown",
      "metadata": {
        "id": "OIX7901fUi1j"
      },
      "source": [
        " Importing libraries"
      ]
    },
    {
      "cell_type": "code",
      "metadata": {
        "id": "AXiyV5IhUocu"
      },
      "source": [
        " \n",
        "import pandas as pd\n",
        "import numpy as np\n",
        "import matplotlib.pyplot as plt\n",
        "import seaborn as sns\n",
        "titanic=pd.read_csv('train.csv')\n",
        "titanic.head(8)\n",
        "titanic.isnull()"
      ],
      "execution_count": null,
      "outputs": []
    },
    {
      "cell_type": "markdown",
      "metadata": {
        "id": "jzBPK6zmU6Cf"
      },
      "source": [
        "Line plot"
      ]
    },
    {
      "cell_type": "code",
      "metadata": {
        "id": "vj_-iRPzU7SO"
      },
      "source": [
        "sns.lineplot(data=titanic,x=\"Age\",y=\"Survived\")\n",
        "plt.show()"
      ],
      "execution_count": null,
      "outputs": []
    },
    {
      "cell_type": "markdown",
      "metadata": {
        "id": "qKBEd5CZVAh1"
      },
      "source": [
        "Heat map"
      ]
    },
    {
      "cell_type": "code",
      "metadata": {
        "id": "TGIIhvOhVCji"
      },
      "source": [
        "sns.heatmap(titanic.isnull())"
      ],
      "execution_count": null,
      "outputs": []
    },
    {
      "cell_type": "markdown",
      "metadata": {
        "id": "dvpN6HsgVHKD"
      },
      "source": [
        "Count plot"
      ]
    },
    {
      "cell_type": "code",
      "metadata": {
        "id": "MOSvr2cEVL_z"
      },
      "source": [
        "sns.set_style('darkgrid')\n",
        "sns.countplot(x='Survived',hue='Sex',data=titanic,palette='BuGn')\n",
        "sns.set_style('darkgrid')\n",
        "sns.countplot(x='Survived',hue='Pclass',data=titanic,palette='cubehelix')\n",
        "sns.countplot(x='SibSp',data=titanic,palette='Blues_r')"
      ],
      "execution_count": null,
      "outputs": []
    },
    {
      "cell_type": "markdown",
      "metadata": {
        "id": "VND2aIlBVay4"
      },
      "source": [
        "Distplot"
      ]
    },
    {
      "cell_type": "code",
      "metadata": {
        "id": "0jQhn5S4Vcp3"
      },
      "source": [
        "sns.distplot(titanic['Age'].dropna(),color='darkviolet',bins=10)"
      ],
      "execution_count": null,
      "outputs": []
    },
    {
      "cell_type": "code",
      "metadata": {
        "id": "8GyszSnNVIau"
      },
      "source": [
        ""
      ],
      "execution_count": null,
      "outputs": []
    }
  ]
}