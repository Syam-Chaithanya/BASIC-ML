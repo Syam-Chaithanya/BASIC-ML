{
  "nbformat": 4,
  "nbformat_minor": 0,
  "metadata": {
    "colab": {
      "name": "Untitled3.ipynb",
      "provenance": [],
      "authorship_tag": "ABX9TyON74FEaB5eY+fmzEf/ZoAP",
      "include_colab_link": true
    },
    "kernelspec": {
      "name": "python3",
      "display_name": "Python 3"
    },
    "language_info": {
      "name": "python"
    }
  },
  "cells": [
    {
      "cell_type": "markdown",
      "metadata": {
        "id": "view-in-github",
        "colab_type": "text"
      },
      "source": [
        "<a href=\"https://colab.research.google.com/github/Syam-Chaithanya/BASIC-ML/blob/main/Untitled3.ipynb\" target=\"_parent\"><img src=\"https://colab.research.google.com/assets/colab-badge.svg\" alt=\"Open In Colab\"/></a>"
      ]
    },
    {
      "cell_type": "markdown",
      "metadata": {
        "id": "PsnhrvYA3yIM"
      },
      "source": [
        " Addition of two numbers :\n",
        "a = int(input(enter a number)) \n",
        "b = int(input(enter a number)) \n",
        "Sum = a+b \n",
        "Print(sum) \n",
        " \n",
        " \n",
        "Greatest of 3 numbers :\n",
        "a = int(input(enter a number)) \n",
        "b = int(input(enter a number)) \n",
        "c = int(input(enter a number)) \n",
        "if(a<b>c) :\n",
        "Print(b) \n",
        "if else(b<a>c) :\n",
        "Print(a) \n",
        "else:\n",
        "Print(c) \n",
        " \n",
        " \n",
        "Given number is even or odd :\n",
        "n = int(input(enter a number) \n",
        "if(n%2 = 0) :\n",
        "Print(even) \n",
        "else:\n",
        "Print(odd)"
      ]
    },
    {
      "cell_type": "code",
      "metadata": {
        "colab": {
          "base_uri": "https://localhost:8080/"
        },
        "id": "hXprAdaX5sxg",
        "outputId": "a203e0c3-b8bb-40a2-b524-36f2c7c8c3c8"
      },
      "source": [
        "a = 2\n",
        "b = 3\n",
        "print(a+b)\n",
        " \n",
        "a = 1 \n",
        "b = 2\n",
        "c = 3\n",
        "if (a<b>c) :\n",
        "  print(b) \n",
        "elif (b<a>c) :\n",
        "  print(a) \n",
        "else:\n",
        "  print(c)\n",
        " \n",
        "n = 5\n",
        "if(n%2 == 0) :\n",
        "  print(\"even\") \n",
        "else:\n",
        "  print(\"odd\")"
      ],
      "execution_count": 12,
      "outputs": [
        {
          "output_type": "stream",
          "text": [
            "5\n",
            "3\n",
            "odd\n"
          ],
          "name": "stdout"
        }
      ]
    },
    {
      "cell_type": "code",
      "metadata": {
        "id": "O2VPiniB5W4N"
      },
      "source": [
        ""
      ],
      "execution_count": null,
      "outputs": []
    },
    {
      "cell_type": "markdown",
      "metadata": {
        "id": "HhLKdliB5ZZk"
      },
      "source": [
        ""
      ]
    },
    {
      "cell_type": "code",
      "metadata": {
        "id": "7KfUMoEr5duL"
      },
      "source": [
        ""
      ],
      "execution_count": null,
      "outputs": []
    }
  ]
}